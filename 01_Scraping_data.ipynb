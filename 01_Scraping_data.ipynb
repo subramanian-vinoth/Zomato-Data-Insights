{
 "cells": [
  {
   "cell_type": "code",
   "execution_count": null,
   "metadata": {},
   "outputs": [],
   "source": [
    "import pandas as pd\n",
    "import faker as fak\n",
    "import random\n",
    "from datetime import datetime, timedelta"
   ]
  },
  {
   "cell_type": "code",
   "execution_count": null,
   "metadata": {},
   "outputs": [],
   "source": [
    "fake = fak.Faker('en_IN')"
   ]
  },
  {
   "cell_type": "code",
   "execution_count": null,
   "metadata": {},
   "outputs": [],
   "source": [
    "def generate_customers(n):\n",
    "    customers = []\n",
    "    for _ in range(n):\n",
    "        customers.append({\n",
    "            \"customer_id\": fake.uuid4(),\n",
    "            \"name\": fake.name(),\n",
    "            \"email\": fake.email(),\n",
    "            \"phone\": fake.phone_number(),\n",
    "            \"location\": fake.address(),\n",
    "            \"signup_date\": fake.date_this_decade(),\n",
    "            \"is_premium\": random.choice([\"Yes\", \"No\"]),\n",
    "            \"preferred_cuisine\": random.choice(['Indian', 'Chinese', 'Italian', 'Mexican']),\n",
    "            \"total_orders\": random.randint(1, 50),\n",
    "            \"average_rating\": round(random.uniform(1, 5), 2),\n",
    "        })\n",
    "    return pd.DataFrame(customers)"
   ]
  },
  {
   "cell_type": "code",
   "execution_count": null,
   "metadata": {},
   "outputs": [],
   "source": [
    "def generate_restaurants(n):\n",
    "    restaurants = []\n",
    "    for _ in range(n):\n",
    "        restaurants.append({\n",
    "            \"restaurant_id\": fake.uuid4(),\n",
    "            \"name\": fake.company(),\n",
    "            \"cuisine_type\": random.choice(['Indian', 'Chinese', 'Italian', 'Mexican']),\n",
    "            \"location\": fake.city(),\n",
    "            \"owner_name\": fake.name(),\n",
    "            \"average_delivery_time\": random.randint(20, 60),\n",
    "            \"contact_number\": fake.phone_number(),\n",
    "            \"rating\": round(random.uniform(1, 5), 2),\n",
    "            \"total_orders\": random.randint(1, 100),\n",
    "            \"is_active\": random.choice([\"Yes\", \"No\"]),\n",
    "        })\n",
    "    return pd.DataFrame(restaurants)"
   ]
  },
  {
   "cell_type": "code",
   "execution_count": null,
   "metadata": {},
   "outputs": [],
   "source": [
    "def generate_orders(n, customer_ids, restaurant_ids):\n",
    "    orders = []\n",
    "    for _ in range(n):\n",
    "        order_date = fake.date_time_this_year()\n",
    "        # Ensure delivery_time is within a certain range after order_date\n",
    "        delivery_time = order_date + datetime.timedelta(minutes=random.randint(30, 180))  \n",
    "        orders.append({\n",
    "            \"order_id\": fake.uuid4(),\n",
    "            \"customer_id\":customer_ids,\n",
    "            \"restaurant_id\": restaurant_ids,\n",
    "            \"order_date\": order_date,\n",
    "            \"delivery_time\": delivery_time,\n",
    "            \"status\": random.choice(['Pending', 'Delivered', 'Cancelled']),\n",
    "            \"total_amount\": round(random.uniform(100, 3000), 2),\n",
    "            \"payment_mode\": random.choice(['Credit Card', 'Cash', 'UPI']),\n",
    "            \"discount_applied\": round(random.uniform(0, 20), 2),\n",
    "            \"feedback_rating\": round(random.uniform(1, 5), 2),\n",
    "        })\n",
    "    return pd.DataFrame(orders)"
   ]
  },
  {
   "cell_type": "code",
   "execution_count": null,
   "metadata": {},
   "outputs": [],
   "source": [
    "customer_data = []\n",
    "for _ in range(500):\n",
    "        cust.append({\n",
    "            \"customer_id\": fake.uuid4(),\n",
    "            \"name\": fake.name(),\n",
    "            \"email\": fake.email(),\n",
    "            \"phone\": fake.phone_number(),\n",
    "            \"location\": f\"{fake.street_address()}, Chennai, Tamil Nadu\",\n",
    "            \"signup_date\": fake.date_between(start_date=datetime(datetime.now().year - 5, 1, 1), end_date=datetime(datetime.now().year - 1, 12, 31)),\n",
    "            \"is_premium\": random.choice([\"Yes\", \"No\"]),\n",
    "            \"preferred_cuisine\": random.choice(['Indian', 'American', 'Chinese', 'Italian', 'Mexican','Thai']),\n",
    "            \"total_orders\": random.randint(1, 50),\n",
    "            \"average_rating\": round(random.uniform(1, 5), 2),\n",
    "        })\n",
    "data = pd.DataFrame(customer_data)"
   ]
  },
  {
   "cell_type": "code",
   "execution_count": null,
   "metadata": {},
   "outputs": [],
   "source": [
    "data.to_csv(\"customer_500.csv\", index=False)"
   ]
  },
  {
   "cell_type": "code",
   "execution_count": null,
   "metadata": {},
   "outputs": [],
   "source": [
    "customer_data = pd.read_csv(r\"D:\\DataScience_GUVI\\0_Working_directory\\01_Project_Zomato\\customer_500.csv\")"
   ]
  },
  {
   "cell_type": "code",
   "execution_count": null,
   "metadata": {},
   "outputs": [],
   "source": [
    "restaurants = []\n",
    "for _ in range(500):\n",
    "    restaurants.append({\n",
    "        \"restaurant_id\": fake.uuid4(),\n",
    "        \"name\": fake.company(),\n",
    "        \"cuisine_type\": random.choice(['Indian', 'Chinese', 'Italian', 'Mexican', 'Thai']),\n",
    "        \"location\": \"Chennai\",\n",
    "        \"owner_name\": fake.name(),\n",
    "        \"average_delivery_time\": random.randint(20, 60),\n",
    "        \"contact_number\": fake.phone_number(),\n",
    "        \"rating\": round(random.uniform(1, 5), 2),\n",
    "        \"total_orders\": random.randint(1, 100),\n",
    "        \"is_active\": random.choice([\"Yes\", \"No\"]),\n",
    "    })\n",
    "restaurants_data = pd.DataFrame(restaurants)"
   ]
  },
  {
   "cell_type": "code",
   "execution_count": null,
   "metadata": {},
   "outputs": [],
   "source": [
    "restaurants_data.to_csv(\"restaurants_500.csv\", index= False)"
   ]
  },
  {
   "cell_type": "code",
   "execution_count": null,
   "metadata": {},
   "outputs": [],
   "source": [
    "def generate_orders(n, customer_ids, restaurant_ids):\n",
    "    orders = []\n",
    "    for _ in range(n):\n",
    "        order_date = fake.date_time_this_year()\n",
    "        delivery_time = order_date + timedelta(minutes=random.randint(30, 180)) \n",
    "        orders.append({\n",
    "            \"order_id\": fake.uuid4(),\n",
    "            \"customer_id\": random.choice(customer_ids),  \n",
    "            \"restaurant_id\": random.choice(restaurant_ids),\n",
    "            \"order_date\": order_date,\n",
    "            \"delivery_time\": delivery_time,\n",
    "            \"status\": random.choice(['Pending', 'Delivered', 'Cancelled']),\n",
    "            \"total_amount\": round(random.uniform(100, 3000), 2),\n",
    "            \"payment_mode\": random.choice(['Credit Card', 'Cash', 'UPI']),\n",
    "            \"discount_applied\": round(random.uniform(0, 20), 2),\n",
    "            \"feedback_rating\": round(random.uniform(1, 5), 2),\n",
    "        })\n",
    "    return pd.DataFrame(orders)"
   ]
  },
  {
   "cell_type": "code",
   "execution_count": null,
   "metadata": {},
   "outputs": [],
   "source": [
    "customer_ids = cust['customer_id'].tolist()\n",
    "restaurant_ids = rest['restaurant_id'].tolist()"
   ]
  },
  {
   "cell_type": "code",
   "execution_count": null,
   "metadata": {},
   "outputs": [],
   "source": [
    "orders_df = generate_orders(500, customer_ids, restaurant_ids)"
   ]
  },
  {
   "cell_type": "code",
   "execution_count": null,
   "metadata": {},
   "outputs": [],
   "source": [
    "orders_df.to_csv(\"order_500.csv\", index= False)"
   ]
  },
  {
   "cell_type": "code",
   "execution_count": null,
   "metadata": {},
   "outputs": [],
   "source": [
    "def generate_delivery_persons(n):\n",
    "    delivery_persons = []\n",
    "    for _ in range(n):\n",
    "        delivery_persons.append({\n",
    "            \"delivery_person_id\": fake.uuid4(),\n",
    "            \"name\": fake.name(),\n",
    "            \"contact_number\": fake.phone_number(),\n",
    "            \"vehicle_type\": random.choice(['Bike', 'Car']),\n",
    "            \"total_deliveries\": random.randint(10, 100),\n",
    "            \"average_rating\": round(random.uniform(1, 5), 2),\n",
    "            \"location\": \"Chennai\",\n",
    "        })\n",
    "    return pd.DataFrame(delivery_persons)"
   ]
  },
  {
   "cell_type": "code",
   "execution_count": null,
   "metadata": {},
   "outputs": [],
   "source": [
    "delivery_persons = generate_delivery_persons(50)"
   ]
  },
  {
   "cell_type": "code",
   "execution_count": null,
   "metadata": {},
   "outputs": [],
   "source": [
    "delivery_persons.to_csv(\"delivery_persons.csv\", index=False)"
   ]
  },
  {
   "cell_type": "code",
   "execution_count": null,
   "metadata": {},
   "outputs": [],
   "source": [
    "order_df = pd.read_csv(r\"D:\\DataScience_GUVI\\0_Working_directory\\01_Project_Zomato\\order_500.csv\")"
   ]
  },
  {
   "cell_type": "code",
   "execution_count": null,
   "metadata": {},
   "outputs": [],
   "source": [
    "valid_order_ids = order_df[order_df['status'] != 'Cancelled']['order_id'].tolist()"
   ]
  },
  {
   "cell_type": "code",
   "execution_count": null,
   "metadata": {},
   "outputs": [],
   "source": [
    "del_person_df = pd.read_csv(r\"D:\\DataScience_GUVI\\0_Working_directory\\01_Project_Zomato\\delivery_persons.csv\")"
   ]
  },
  {
   "cell_type": "code",
   "execution_count": null,
   "metadata": {},
   "outputs": [],
   "source": [
    "delivery_person_ids = del_person_df[\"delivery_person_id\"].to_list()"
   ]
  },
  {
   "cell_type": "code",
   "execution_count": null,
   "metadata": {},
   "outputs": [],
   "source": [
    "def generate_deliveries(list_order_ids):\n",
    "    deliveries = []\n",
    "    for i in list_order_ids:\n",
    "        delivery_time = random.randint(20, 60) \n",
    "        estimated_time = delivery_time + random.randint(-10, 10) \n",
    "        deliveries.append({\n",
    "            \"delivery_id\": fake.uuid4(),\n",
    "            \"order_id\": i, \n",
    "            \"delivery_person_id\": random.choice(delivery_person_ids), \n",
    "            \"delivery_status\": random.choice(['On the way', 'Delivered']),\n",
    "            \"distance\": round(random.uniform(1, 10), 2),  \n",
    "            \"delivery_time\": delivery_time,  \n",
    "            \"estimated_time\": estimated_time,  \n",
    "            \"delivery_fee\": round(random.uniform(5, 20), 2),  \n",
    "            \"vehicle_type\": random.choice(['Bike', 'Car']),\n",
    "        })\n",
    "    return pd.DataFrame(deliveries)"
   ]
  },
  {
   "cell_type": "code",
   "execution_count": null,
   "metadata": {},
   "outputs": [],
   "source": [
    "deliveries = generate_deliveries(valid_order_ids)"
   ]
  },
  {
   "cell_type": "code",
   "execution_count": null,
   "metadata": {},
   "outputs": [],
   "source": [
    "deliveries.to_csv(\"deliveries_latest.csv\", index=False)"
   ]
  },
  {
   "cell_type": "code",
   "execution_count": null,
   "metadata": {},
   "outputs": [],
   "source": []
  }
 ],
 "metadata": {
  "kernelspec": {
   "display_name": "Python 3",
   "language": "python",
   "name": "python3"
  },
  "language_info": {
   "name": "python",
   "version": "3.12.3"
  }
 },
 "nbformat": 4,
 "nbformat_minor": 2
}
