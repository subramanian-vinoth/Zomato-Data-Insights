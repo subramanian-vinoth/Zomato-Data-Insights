{
 "cells": [
  {
   "cell_type": "code",
   "execution_count": null,
   "metadata": {},
   "outputs": [],
   "source": [
    "import mysql.connector\n",
    "import pandas as pd"
   ]
  },
  {
   "cell_type": "code",
   "execution_count": null,
   "metadata": {},
   "outputs": [],
   "source": [
    "class database:\n",
    "    def __init__(self, host, user, password, database):\n",
    "        self.host = host\n",
    "        self.user = user\n",
    "        self.password = password\n",
    "        self.database = database\n",
    "        self.conn = None\n",
    "    def connect(self):\n",
    "        self.conn = mysql.connector.connect(host=self.host,user=self.user,password=self.password)\n",
    "        self.cursor = self.conn.cursor()\n",
    "        self.cursor.execute(f\"CREATE DATABASE IF NOT EXISTS {self.database}\")\n",
    "        self.conn.database = self.database \n",
    "        print(\"success\")\n",
    "    def create_table(self,table_query):\n",
    "        self.cursor.execute(table_query)\n",
    "        self.conn.commit()\n",
    "        print(\"success\")\n",
    "    def insert_data(self,insert_query, list_tuple):\n",
    "        self.cursor.executemany(insert_query, list_tuple)\n",
    "        self.conn.commit()\n",
    "        print(\"success\")\n",
    "    def update(self, update_query):\n",
    "        self.cursor.execute(update_query)\n",
    "        self.conn.commit()\n",
    "        print(\"Data updated successfully\")\n",
    "    def delete(self, delete_query):\n",
    "        self.cursor.execute(delete_query)\n",
    "        self.conn.commit()\n",
    "        print(\"Data deleted successfully\")\n",
    "    def query(self, sql_query):\n",
    "        self.cursor.execute(sql_query)\n",
    "        results = self.cursor.fetchall()\n",
    "        return results\n",
    "    def close_connection(self):\n",
    "        if self.cursor:\n",
    "            self.cursor.close()\n",
    "        if self.conn:\n",
    "            self.conn.close()\n",
    "        print(\"Connection closed successfully\")"
   ]
  },
  {
   "cell_type": "code",
   "execution_count": null,
   "metadata": {},
   "outputs": [],
   "source": [
    "config = {\"host\":\"localhost\", \"user\":\"root\",\"password\":\"root\", \"database\":\"zomato\"}\n",
    "db_obj = database(**config)"
   ]
  },
  {
   "cell_type": "code",
   "execution_count": null,
   "metadata": {},
   "outputs": [],
   "source": [
    "db_obj.connect()"
   ]
  },
  {
   "cell_type": "code",
   "execution_count": null,
   "metadata": {},
   "outputs": [],
   "source": [
    "customer_table = \"\"\"CREATE TABLE customer_table (\n",
    "    customer_id VARCHAR(255) PRIMARY KEY,\n",
    "    name VARCHAR(255),\n",
    "    email VARCHAR(255),\n",
    "    phone VARCHAR(100),\n",
    "    location VARCHAR(255),\n",
    "    signup_date DATE,\n",
    "    is_premium VARCHAR(10),\n",
    "    preferred_cuisine VARCHAR(255),\n",
    "    total_orders INT,\n",
    "    average_rating FLOAT\n",
    ")\"\"\"\n",
    "db_obj.create_table(customer_table)"
   ]
  },
  {
   "cell_type": "code",
   "execution_count": null,
   "metadata": {},
   "outputs": [],
   "source": [
    "customer_data = pd.read_csv(r\"D:\\DataScience_GUVI\\0_Working_directory\\01_Project_Zomato\\cust_100.csv\")"
   ]
  },
  {
   "cell_type": "code",
   "execution_count": null,
   "metadata": {},
   "outputs": [],
   "source": [
    "customer_data_tuples = list(customer_data.itertuples(index=False, name=None))"
   ]
  },
  {
   "cell_type": "code",
   "execution_count": null,
   "metadata": {},
   "outputs": [],
   "source": [
    "data = \"\"\"INSERT INTO customer_table (\n",
    "    customer_id,\n",
    "    name,\n",
    "    email,\n",
    "    phone,\n",
    "    location,\n",
    "    signup_date,\n",
    "    is_premium,\n",
    "    preferred_cuisine,\n",
    "    total_orders,\n",
    "    average_rating\n",
    ") VALUES (\n",
    "    %s, %s, %s, %s, %s, %s, %s, %s, %s, %s\n",
    ");\"\"\"\n",
    "db_obj.insert_data(data, customer_data_tuples)"
   ]
  },
  {
   "cell_type": "code",
   "execution_count": null,
   "metadata": {},
   "outputs": [],
   "source": [
    "restaurants_table = \"\"\"CREATE TABLE restaurants_table (\n",
    "    restaurant_id VARCHAR(255) PRIMARY KEY,\n",
    "    name VARCHAR(255),\n",
    "    cuisine_type VARCHAR(50),\n",
    "    location VARCHAR(255),\n",
    "    owner_name VARCHAR(255),\n",
    "    average_delivery_time FLOAT,\n",
    "    contact_number VARCHAR(100),\n",
    "    rating FLOAT,\n",
    "    total_orders INT,\n",
    "    is_active VARCHAR(10)\n",
    ")\"\"\"\n",
    "db_obj.create_table(restaurants_table)"
   ]
  },
  {
   "cell_type": "code",
   "execution_count": null,
   "metadata": {},
   "outputs": [],
   "source": [
    "alter_table_query = \"\"\"\n",
    "ALTER TABLE restaurants_table\n",
    "MODIFY average_delivery_time INT;\n",
    "\"\"\"\n",
    "db_obj.cursor.execute(alter_table_query)\n",
    "db_obj.conn.commit()"
   ]
  },
  {
   "cell_type": "code",
   "execution_count": null,
   "metadata": {},
   "outputs": [],
   "source": [
    "restaurants_table = pd.read_csv(r\"D:\\DataScience_GUVI\\0_Working_directory\\01_Project_Zomato\\rest_100.csv\")"
   ]
  },
  {
   "cell_type": "code",
   "execution_count": null,
   "metadata": {},
   "outputs": [],
   "source": [
    "restaurants_data_tuples = list(customer_data.itertuples(index=False, name=None))"
   ]
  },
  {
   "cell_type": "code",
   "execution_count": null,
   "metadata": {},
   "outputs": [],
   "source": [
    "for i, row in restaurants_table.iterrows():\n",
    "    db_obj.cursor.execute(\"\"\"\n",
    "        INSERT INTO restaurants_table (\n",
    "            restaurant_id, restaurant_name, cuisine_type, location, owner_name, \n",
    "            average_delivery_time, contact_number, rating, total_orders, is_active\n",
    "        ) VALUES (%s, %s, %s, %s, %s, %s, %s, %s, %s, %s)\n",
    "    \"\"\", (\n",
    "        row['restaurant_id'], \n",
    "        row['restaurant_name'], \n",
    "        row['cuisine_type'], \n",
    "        row['location'], \n",
    "        row['owner_name'], \n",
    "        int(row['average_delivery_time']), \n",
    "        int(row['contact_number']), \n",
    "        row['rating'], \n",
    "        row['total_orders'], \n",
    "        row['is_active']\n",
    "    ))\n",
    "db_obj.conn.commit()"
   ]
  },
  {
   "cell_type": "code",
   "execution_count": null,
   "metadata": {},
   "outputs": [],
   "source": [
    "# data = \"\"\"INSERT INTO restaurants_table (\n",
    "#     restaurant_id,\n",
    "#     restaurant_name,\n",
    "#     cuisine_type,\n",
    "#     location,\n",
    "#     owner_name,\n",
    "#     average_delivery_time,\n",
    "#     contact_number,\n",
    "#     rating,\n",
    "#     total_orders,\n",
    "#     is_active\n",
    "# ) VALUES (\n",
    "#     %s, %s, %s, %s, %s, %s, %s, %s, %s, %s\n",
    "# );\"\"\"\n",
    "# db_obj.insert_data(data, restaurants_data_tuples)"
   ]
  },
  {
   "cell_type": "code",
   "execution_count": null,
   "metadata": {},
   "outputs": [],
   "source": [
    "orders_table = \"\"\"CREATE TABLE orders_table (\n",
    "    order_id VARCHAR(255) PRIMARY KEY,\n",
    "    customer_id VARCHAR(255),\n",
    "    restaurant_id VARCHAR(255),\n",
    "    order_date DATETIME,\n",
    "    delivery_time DATETIME,\n",
    "    status VARCHAR(10),\n",
    "    total_amount DECIMAL(10, 2), \n",
    "    payment_mode VARCHAR(20), \n",
    "    discount_applied DECIMAL(5, 2),\n",
    "    feedback_rating FLOAT,\n",
    "    FOREIGN KEY (customer_id) REFERENCES customer_table(customer_id),\n",
    "    FOREIGN KEY (restaurant_id) REFERENCES restaurants_table(restaurant_id)\n",
    ")\"\"\"\n",
    "db_obj.create_table(orders_table)"
   ]
  },
  {
   "cell_type": "code",
   "execution_count": null,
   "metadata": {},
   "outputs": [],
   "source": [
    "orders_data = pd.read_csv(r\"D:\\DataScience_GUVI\\0_Working_directory\\01_Project_Zomato\\order_100.csv\")"
   ]
  },
  {
   "cell_type": "code",
   "execution_count": null,
   "metadata": {},
   "outputs": [],
   "source": [
    "orders_data_tuples = list(orders_data.itertuples(index=False, name=None))"
   ]
  },
  {
   "cell_type": "code",
   "execution_count": null,
   "metadata": {},
   "outputs": [],
   "source": [
    "data = \"\"\"INSERT INTO orders_table (\n",
    "    order_id,\n",
    "    customer_id,\n",
    "    restaurant_id,\n",
    "    order_date,\n",
    "    delivery_time,\n",
    "    status,\n",
    "    total_amount,\n",
    "    payment_mode,\n",
    "    discount_applied,\n",
    "    feedback_rating\n",
    ") VALUES (\n",
    "    %s, %s, %s, %s, %s, %s, %s, %s, %s, %s\n",
    ");\n",
    "\"\"\"\n",
    "db_obj.insert_data(data, orders_data_tuples)"
   ]
  },
  {
   "cell_type": "code",
   "execution_count": null,
   "metadata": {},
   "outputs": [],
   "source": [
    "delivery_persons_table = \"\"\"CREATE TABLE delivery_persons_table (\n",
    "    delivery_person_id VARCHAR(255) PRIMARY KEY,\n",
    "    name VARCHAR(255),\n",
    "    contact_number VARCHAR(100),\n",
    "    vehicle_type VARCHAR(20),\n",
    "    total_deliveries INT,\n",
    "    average_rating FLOAT,\n",
    "    location VARCHAR(255)\n",
    ")\"\"\"\n",
    "db_obj.create_table(delivery_persons_table)"
   ]
  },
  {
   "cell_type": "code",
   "execution_count": null,
   "metadata": {},
   "outputs": [],
   "source": [
    "delivery_persons = pd.read_csv(r\"D:\\DataScience_GUVI\\0_Working_directory\\01_Project_Zomato\\delivery_persons.csv\")"
   ]
  },
  {
   "cell_type": "code",
   "execution_count": null,
   "metadata": {},
   "outputs": [],
   "source": [
    "delivery_persons_data_tuples = list(delivery_persons.itertuples(index=False, name=None))"
   ]
  },
  {
   "cell_type": "code",
   "execution_count": null,
   "metadata": {},
   "outputs": [],
   "source": [
    "data = \"\"\"INSERT INTO delivery_persons_table (\n",
    "    delivery_person_id,\n",
    "    name,\n",
    "    contact_number,\n",
    "    vehicle_type,\n",
    "    total_deliveries,\n",
    "    average_rating,\n",
    "    location\n",
    ") VALUES (\n",
    "    %s, %s, %s, %s, %s, %s, %s\n",
    ");\n",
    "\"\"\"\n",
    "db_obj.insert_data(data, delivery_persons_data_tuples)"
   ]
  },
  {
   "cell_type": "code",
   "execution_count": null,
   "metadata": {},
   "outputs": [],
   "source": [
    "deliveries_table = \"\"\"CREATE TABLE deliveries_table (\n",
    "    delivery_id VARCHAR(255) PRIMARY KEY,\n",
    "    order_id VARCHAR(255),\n",
    "    delivery_person_id VARCHAR(255),\n",
    "    delivery_status VARCHAR(20),\n",
    "    distance FLOAT,\n",
    "    delivery_time INT,\n",
    "    estimated_time INT,\n",
    "    delivery_fee DECIMAL(5, 2),\n",
    "    vehicle_type VARCHAR(20),\n",
    "    FOREIGN KEY (order_id) REFERENCES orders_table(order_id),\n",
    "    FOREIGN KEY (delivery_person_id) REFERENCES delivery_persons_table(delivery_person_id)\n",
    ")\"\"\"\n",
    "db_obj.create_table(deliveries_table)"
   ]
  },
  {
   "cell_type": "code",
   "execution_count": null,
   "metadata": {},
   "outputs": [],
   "source": [
    "deliveries = pd.read_csv(r\"D:\\DataScience_GUVI\\0_Working_directory\\01_Project_Zomato\\deliveries_100.csv\")"
   ]
  },
  {
   "cell_type": "code",
   "execution_count": null,
   "metadata": {},
   "outputs": [],
   "source": [
    "deliveries_data_tuples = list(deliveries.itertuples(index=False, name=None))"
   ]
  },
  {
   "cell_type": "code",
   "execution_count": null,
   "metadata": {},
   "outputs": [],
   "source": [
    "data = \"\"\"INSERT INTO deliveries_table (\n",
    "    delivery_id,\n",
    "    order_id,\n",
    "    delivery_person_id,\n",
    "    delivery_status,\n",
    "    distance,\n",
    "    delivery_time,\n",
    "    estimated_time,\n",
    "    delivery_fee,\n",
    "    vehicle_type\n",
    ") VALUES (\n",
    "    %s, %s, %s, %s, %s, %s, %s, %s, %s\n",
    ");\n",
    "\"\"\"\n",
    "db_obj.insert_data(data, deliveries_data_tuples)"
   ]
  },
  {
   "cell_type": "code",
   "execution_count": null,
   "metadata": {},
   "outputs": [],
   "source": []
  }
 ],
 "metadata": {
  "kernelspec": {
   "display_name": "Python 3",
   "language": "python",
   "name": "python3"
  },
  "language_info": {
   "name": "python",
   "version": "3.12.3"
  }
 },
 "nbformat": 4,
 "nbformat_minor": 2
}
